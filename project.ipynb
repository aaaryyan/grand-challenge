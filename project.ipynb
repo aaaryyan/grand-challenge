{
 "cells": [
  {
   "cell_type": "code",
   "execution_count": null,
   "id": "9aa538e4",
   "metadata": {},
   "outputs": [
    {
     "name": "stdout",
     "output_type": "stream",
     "text": [
      "hello world\n"
     ]
    }
   ],
   "source": [
    "print(\"hello world\")"
   ]
  },
  {
   "cell_type": "code",
   "execution_count": null,
   "id": "874bcc82",
   "metadata": {},
   "outputs": [],
   "source": [
    "print(\"ooga booga\")\n",
    "print(\"t\")"
   ]
  }
 ],
 "metadata": {
  "kernelspec": {
   "display_name": "Python 3 (ipykernel)",
   "language": "python",
   "name": "python3"
  }
 },
 "nbformat": 4,
 "nbformat_minor": 5
}
