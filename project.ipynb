{
 "cells": [
  {
   "cell_type": "markdown",
   "id": "84276bcab9a27cc9",
   "metadata": {},
   "source": []
  },
  {
   "cell_type": "markdown",
   "id": "72212a5e5f0c0dfe",
   "metadata": {},
   "source": []
  },
  {
   "cell_type": "code",
   "execution_count": 1,
   "id": "b6fee08a1e59102f",
   "metadata": {
    "ExecuteTime": {
     "end_time": "2025-04-15T11:18:35.799891Z",
     "start_time": "2025-04-15T11:18:35.796788Z"
    }
   },
   "outputs": [
    {
     "name": "stdout",
     "output_type": "stream",
     "text": [
      "hello world\n"
     ]
    }
   ],
   "source": [
    "print(\"hello world\")"
   ]
  }
 ],
 "metadata": {
  "kernelspec": {
   "display_name": "Python 3 (ipykernel)",
   "language": "python",
   "name": "python3"
  }
 },
 "nbformat": 4,
 "nbformat_minor": 5
}
